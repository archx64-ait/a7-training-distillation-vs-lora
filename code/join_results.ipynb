{
 "cells": [
  {
   "cell_type": "code",
   "execution_count": 1,
   "metadata": {},
   "outputs": [
    {
     "data": {
      "text/html": [
       "<div>\n",
       "<style scoped>\n",
       "    .dataframe tbody tr th:only-of-type {\n",
       "        vertical-align: middle;\n",
       "    }\n",
       "\n",
       "    .dataframe tbody tr th {\n",
       "        vertical-align: top;\n",
       "    }\n",
       "\n",
       "    .dataframe thead th {\n",
       "        text-align: right;\n",
       "    }\n",
       "</style>\n",
       "<table border=\"1\" class=\"dataframe\">\n",
       "  <thead>\n",
       "    <tr style=\"text-align: right;\">\n",
       "      <th></th>\n",
       "      <th>Model</th>\n",
       "      <th>Train Loss</th>\n",
       "      <th>Validation Loss</th>\n",
       "      <th>Test Accuracy</th>\n",
       "      <th>Test F1-Score</th>\n",
       "    </tr>\n",
       "  </thead>\n",
       "  <tbody>\n",
       "    <tr>\n",
       "      <th>0</th>\n",
       "      <td>Even Layers</td>\n",
       "      <td>0.1951</td>\n",
       "      <td>0.241774</td>\n",
       "      <td>0.915277</td>\n",
       "      <td>0.911742</td>\n",
       "    </tr>\n",
       "    <tr>\n",
       "      <th>1</th>\n",
       "      <td>Odd Layers</td>\n",
       "      <td>0.2011</td>\n",
       "      <td>0.250096</td>\n",
       "      <td>0.912587</td>\n",
       "      <td>0.910480</td>\n",
       "    </tr>\n",
       "    <tr>\n",
       "      <th>2</th>\n",
       "      <td>LoRA</td>\n",
       "      <td>0.4465</td>\n",
       "      <td>0.434195</td>\n",
       "      <td>0.842926</td>\n",
       "      <td>0.811601</td>\n",
       "    </tr>\n",
       "  </tbody>\n",
       "</table>\n",
       "</div>"
      ],
      "text/plain": [
       "         Model  Train Loss  Validation Loss  Test Accuracy  Test F1-Score\n",
       "0  Even Layers      0.1951         0.241774       0.915277       0.911742\n",
       "1   Odd Layers      0.2011         0.250096       0.912587       0.910480\n",
       "2         LoRA      0.4465         0.434195       0.842926       0.811601"
      ]
     },
     "execution_count": 1,
     "metadata": {},
     "output_type": "execute_result"
    }
   ],
   "source": [
    "import pandas as pd\n",
    "\n",
    "even_df = pd.read_csv('results/even.csv')\n",
    "odd_df = pd.read_csv('results/odd.csv')\n",
    "lora_df = pd.read_csv('results/lora.csv')\n",
    "\n",
    "joined_df = pd.concat([even_df, odd_df, lora_df], ignore_index=True)\n",
    "joined_df = joined_df.drop(columns=['Unnamed: 0'])\n",
    "\n",
    "joined_df"
   ]
  },
  {
   "cell_type": "code",
   "execution_count": 2,
   "metadata": {},
   "outputs": [
    {
     "name": "stdout",
     "output_type": "stream",
     "text": [
      "| Model       |   Train Loss |   Validation Loss |   Test Accuracy |   Test F1-Score |\n",
      "|:------------|-------------:|------------------:|----------------:|----------------:|\n",
      "| Even Layers |       0.1951 |          0.241774 |        0.915277 |        0.911742 |\n",
      "| Odd Layers  |       0.2011 |          0.250096 |        0.912587 |        0.91048  |\n",
      "| LoRA        |       0.4465 |          0.434195 |        0.842926 |        0.811601 |\n"
     ]
    }
   ],
   "source": [
    "markdown_table = joined_df.to_markdown(index=False)\n",
    "print(markdown_table)"
   ]
  }
 ],
 "metadata": {
  "kernelspec": {
   "display_name": "pytorch-cuda-12.4",
   "language": "python",
   "name": "python3"
  },
  "language_info": {
   "codemirror_mode": {
    "name": "ipython",
    "version": 3
   },
   "file_extension": ".py",
   "mimetype": "text/x-python",
   "name": "python",
   "nbconvert_exporter": "python",
   "pygments_lexer": "ipython3",
   "version": "3.12.5"
  }
 },
 "nbformat": 4,
 "nbformat_minor": 2
}
